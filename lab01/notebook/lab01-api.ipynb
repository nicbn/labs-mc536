{
 "cells": [
  {
   "cell_type": "markdown",
   "metadata": {},
   "source": [
    "# Lab 1 - API de Acesso a Dados"
   ]
  },
  {
   "cell_type": "markdown",
   "metadata": {},
   "source": [
    "# Tarefa 1\n",
    "\n",
    "Das fontes de dados disponíveis, tente encontrar fontes com formatos diferentes e importá-las via Python. Busque pelo menos dois formatos."
   ]
  },
  {
   "cell_type": "code",
   "execution_count": 3,
   "metadata": {},
   "outputs": [
    {
     "output_type": "stream",
     "name": "stdout",
     "text": [
      "       0             1\n0   2020  1.444733e+12\n1   2019  1.877811e+12\n2   2018  1.916947e+12\n3   2017  2.063508e+12\n4   2016  1.795700e+12\n..   ...           ...\n56  1964  2.121189e+10\n57  1963  2.302148e+10\n58  1962  1.992629e+10\n59  1961  1.523685e+10\n60  1960  1.516557e+10\n\n[61 rows x 2 columns]\n"
     ]
    }
   ],
   "source": [
    "import io\n",
    "import requests\n",
    "import xml.etree.ElementTree as et\n",
    "import pandas as pd\n",
    "\n",
    "gdp = {}\n",
    "\n",
    "url = \"http://api.worldbank.org/v2/country/br/indicator/NY.GDP.MKTP.CD\"\n",
    "page = 1\n",
    "pages = 1\n",
    "while page <= pages:\n",
    "    content = requests.get(url + \"?page=\" + str(page)).content\n",
    "    root = et.parse(io.StringIO(content.decode(\"utf-8\"))).getroot()\n",
    "    pages = int(root.attrib[\"pages\"])\n",
    "    \n",
    "    for x in root:\n",
    "        date = x.find(\"{http://www.worldbank.org}date\").text\n",
    "        value = x.find(\"{http://www.worldbank.org}value\").text\n",
    "        if date != None and value != None:\n",
    "            gdp[date] = float(value)\n",
    "\n",
    "    page += 1\n",
    "\n",
    "print(pd.DataFrame(gdp.items()))"
   ]
  },
  {
   "cell_type": "code",
   "execution_count": null,
   "metadata": {},
   "outputs": [],
   "source": []
  },
  {
   "cell_type": "markdown",
   "metadata": {},
   "source": [
    "# Tarefa 2\n",
    "\n",
    "## Engenharia reversa\n",
    "\n",
    "Monte um diagramas que representem modelos dos dados que você terá acesso e como pretende associá-los. Coloque abaixo uma imagem do diagrama."
   ]
  },
  {
   "cell_type": "code",
   "execution_count": null,
   "metadata": {},
   "outputs": [],
   "source": []
  }
 ],
 "metadata": {
  "kernelspec": {
   "name": "python3",
   "display_name": "Python 3.8.3 64-bit (system)"
  },
  "language_info": {
   "codemirror_mode": {
    "name": "ipython",
    "version": 3
   },
   "file_extension": ".py",
   "mimetype": "text/x-python",
   "name": "python",
   "nbconvert_exporter": "python",
   "pygments_lexer": "ipython3",
   "version": "3.8.3"
  },
  "interpreter": {
   "hash": "2db524e06e9f5f4ffedc911c917cb75e12dbc923643829bf417064a77eb14d37"
  }
 },
 "nbformat": 4,
 "nbformat_minor": 4
}