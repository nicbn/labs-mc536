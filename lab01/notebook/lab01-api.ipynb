{
 "cells": [
  {
   "cell_type": "markdown",
   "metadata": {},
   "source": [
    "# Lab 1 - API de Acesso a Dados"
   ]
  },
  {
   "cell_type": "markdown",
   "metadata": {},
   "source": [
    "# Tarefa 1\n",
    "\n",
    "Das fontes de dados disponíveis, tente encontrar fontes com formatos diferentes e importá-las via Python. Busque pelo menos dois formatos."
   ]
  },
  {
   "source": [
    "World Bank API (http://api.worldbank.org/)"
   ],
   "cell_type": "markdown",
   "metadata": {}
  },
  {
   "cell_type": "code",
   "execution_count": 11,
   "metadata": {},
   "outputs": [
    {
     "output_type": "stream",
     "name": "stdout",
     "text": [
      "Empty DataFrame\n",
      "Columns: [country, year, gdp]\n",
      "Index: []\n",
      "   country  year           gdp\n",
      "0      BRA  2018  1.916947e+12\n",
      "1      BRA  2017  2.063508e+12\n",
      "2      BRA  2016  1.795700e+12\n",
      "3      BRA  2015  1.802214e+12\n",
      "4      BRA  2014  2.455994e+12\n",
      "5      BRA  2013  2.472807e+12\n",
      "6      BRA  2012  2.465189e+12\n",
      "7      BRA  2011  2.616201e+12\n",
      "8      BRA  2010  2.208872e+12\n",
      "9      BRA  2009  1.667020e+12\n",
      "10     BRA  2008  1.695825e+12\n",
      "11     BRA  2007  1.397084e+12\n",
      "12     BRA  2006  1.107640e+12\n",
      "13     BRA  2005  8.916302e+11\n",
      "14     BRA  2004  6.693167e+11\n",
      "15     BRA  2003  5.583199e+11\n",
      "16     BRA  2002  5.079625e+11\n",
      "17     BRA  2001  5.593723e+11\n",
      "18     BRA  2000  6.554206e+11\n",
      "19     EUU  2018  1.595652e+13\n",
      "20     EUU  2017  1.472794e+13\n",
      "21     EUU  2016  1.388344e+13\n",
      "22     EUU  2015  1.354383e+13\n",
      "23     EUU  2014  1.563128e+13\n",
      "24     EUU  2013  1.529198e+13\n",
      "25     EUU  2012  1.463264e+13\n",
      "26     EUU  2011  1.573887e+13\n",
      "27     EUU  2010  1.454145e+13\n",
      "28     EUU  2009  1.470983e+13\n",
      "29     EUU  2008  1.623754e+13\n",
      "30     EUU  2007  1.471123e+13\n",
      "31     EUU  2006  1.270354e+13\n",
      "32     EUU  2005  1.190585e+13\n",
      "33     EUU  2004  1.139958e+13\n",
      "34     EUU  2003  9.912138e+12\n",
      "35     EUU  2002  8.049788e+12\n",
      "36     EUU  2001  7.387776e+12\n",
      "37     EUU  2000  7.259911e+12\n"
     ]
    }
   ],
   "source": [
    "import io\n",
    "import requests\n",
    "import xml.etree.ElementTree as et\n",
    "import pandas as pd\n",
    "import math\n",
    "\n",
    "year_min = 2000\n",
    "year_max = 2018\n",
    "\n",
    "values = pd.DataFrame(columns = [\"country\", \"year\", \"gdp\"])\n",
    "i = 0\n",
    "print(values)\n",
    "\n",
    "url = \"http://api.worldbank.org/v2/country/br;eu/indicator/NY.GDP.MKTP.CD\"\n",
    "page = 1\n",
    "pages = 1\n",
    "while page <= pages:\n",
    "    content = requests.get(url + \"?page=\" + str(page)).content\n",
    "    root = et.parse(io.StringIO(content.decode(\"utf-8\"))).getroot()\n",
    "    pages = int(root.attrib[\"pages\"])\n",
    "    \n",
    "    for x in root:\n",
    "        date = x.find(\"{http://www.worldbank.org}date\").text\n",
    "        country = x.find(\"{http://www.worldbank.org}countryiso3code\").text\n",
    "        value = x.find(\"{http://www.worldbank.org}value\").text\n",
    "        if date != None and country != None and value != math:\n",
    "            date = int(date)\n",
    "            if date >= year_min and date <= year_max:\n",
    "                    va.loc[i] = ] = [country]int(ate)] + [float(value)\n",
    "                i += 1\n",
    "\n",
    "    page += 1\n",
    "\n",
    "print(values)"
   ]
  },
  {
   "source": [
    "Stat Bureau Inflation API (https://www.statbureau.org/)\n",
    "\n",
    "(Faz um pedido para cada dupla ano-localidade, portanto é um pouco lento)"
   ],
   "cell_type": "markdown",
   "metadata": {}
  },
  {
   "cell_type": "code",
   "execution_count": 12,
   "metadata": {},
   "outputs": [
    {
     "output_type": "stream",
     "name": "stdout",
     "text": [
      "   country  year  inflation\n0      BRA  2000       5.97\n1      BRA  2001       7.67\n2      BRA  2002      12.53\n3      BRA  2003       9.30\n4      BRA  2004       7.60\n5      BRA  2005       5.69\n6      BRA  2006       3.14\n7      BRA  2007       4.46\n8      BRA  2008       5.90\n9      BRA  2009       4.31\n10     BRA  2010       5.91\n11     BRA  2011       6.50\n12     BRA  2012       5.84\n13     BRA  2013       5.91\n14     BRA  2014       6.41\n15     BRA  2015      10.67\n16     BRA  2016       6.29\n17     BRA  2017       2.95\n18     BRA  2018       3.75\n19     EUU  2000       2.22\n20     EUU  2001       1.89\n21     EUU  2002       2.20\n22     EUU  2003       1.86\n23     EUU  2004       2.21\n24     EUU  2005       2.16\n25     EUU  2006       2.13\n26     EUU  2007       3.17\n27     EUU  2008       2.16\n28     EUU  2009       1.53\n29     EUU  2010       2.67\n30     EUU  2011       3.04\n31     EUU  2012       2.35\n32     EUU  2013       0.98\n33     EUU  2014      -0.08\n34     EUU  2015       0.18\n35     EUU  2016       1.14\n36     EUU  2017       1.64\n37     EUU  2018       1.63\n"
     ]
    }
   ],
   "source": [
    "import io\n",
    "import json\n",
    "import pandas as pd\n",
    "import requests\n",
    "\n",
    "url = \"https://apps.who.int/gho/athena/api/GHO/WHOSIS_000001?filter=COUNTRY:BRA&format=json\"\n",
    "js = requests.get(url).content\n",
    "\n",
    "countries = {\"BRA\": \"brazil\", \"EUU\": \"european-union\"}\n",
    "year_min = 2000\n",
    "year_max = 2018\n",
    "\n",
    "values = pd.DataFrame(columns = [\"country\", \"year\", \"inflation\"])\n",
    "i = 0\n",
    "\n",
    "for country in countries:\n",
    "    for year in range(year_min, year_max + 1):\n",
    "        url = \"https://www.statbureau.org/calculate-inflation-rate-json?country=%s&start=%d-01-01&end=%d-12-31\" % (countries[country], year, year)\n",
    "        js = requests.get(url).content.decode(\"utf-8\").replace('\"', '')\n",
    "        values.loc[i] = [country] + [year] + [float(js)]\n",
    "        i += 1\n",
    "\n",
    "print(values)"
   ]
  },
  {
   "cell_type": "markdown",
   "metadata": {},
   "source": [
    "# Tarefa 2\n",
    "\n",
    "## Engenharia reversa\n",
    "\n",
    "Monte um diagramas que representem modelos dos dados que você terá acesso e como pretende associá-los. Coloque abaixo uma imagem do diagrama."
   ]
  },
  {
   "source": [
    "![imagem](../images/diagrama.png)"
   ],
   "cell_type": "markdown",
   "metadata": {}
  }
 ],
 "metadata": {
  "kernelspec": {
   "name": "python3",
   "display_name": "Python 3.8.3 64-bit (system)"
  },
  "language_info": {
   "codemirror_mode": {
    "name": "ipython",
    "version": 3
   },
   "file_extension": ".py",
   "mimetype": "text/x-python",
   "name": "python",
   "nbconvert_exporter": "python",
   "pygments_lexer": "ipython3",
   "version": "3.8.3"
  },
  "interpreter": {
   "hash": "2db524e06e9f5f4ffedc911c917cb75e12dbc923643829bf417064a77eb14d37"
  }
 },
 "nbformat": 4,
 "nbformat_minor": 4
}