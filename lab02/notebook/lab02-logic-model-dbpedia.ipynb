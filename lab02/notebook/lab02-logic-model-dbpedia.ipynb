{
 "cells": [
  {
   "cell_type": "markdown",
   "id": "monetary-oakland",
   "metadata": {},
   "source": [
    "# Laboratório 2"
   ]
  },
  {
   "cell_type": "markdown",
   "id": "bridal-netscape",
   "metadata": {},
   "source": [
    "## Tarefa 1\n",
    "\n",
    "### Carregue o nó de Tenda dos Milagres (da versão em inglês Tent of Miracles) em Python e mostre o conteúdo JSON."
   ]
  },
  {
   "cell_type": "code",
   "execution_count": 2,
   "id": "exciting-cement",
   "metadata": {},
   "outputs": [
    {
     "output_type": "stream",
     "name": "stdout",
     "text": [
      "{\n   \"d\": {\n      \"results\": [\n         {\n            \"__metadata\": {\n               \"uri\": \"http://dbpedia.org/resource/Tent_of_Miracles_(novel)\"\n            },\n            \"http://www.w3.org/2000/01/rdf-schema#label\": \"Tent of Miracles (novel)\",\n            \"http://dbpedia.org/ontology/wikiPageWikiLink\": {\n               \"__deferred\": {\n                  \"uri\": \"http://dbpedia.org/resource/French_New_Wave\"\n               }\n            },\n            \"http://purl.org/dc/terms/subject\": {\n               \"__deferred\": {\n                  \"uri\": \"http://dbpedia.org/resource/Category:Modernist_novels\"\n               }\n            },\n            \"http://www.w3.org/1999/02/22-rdf-syntax-ns#type\": {\n               \"__deferred\": {\n                  \"uri\": \"http://dbpedia.org/ontology/WrittenWork\"\n               }\n            },\n            \"http://dbpedia.org/property/wikiPageUsesTemplate\": {\n               \"__deferred\": {\n                  \"uri\": \"http://dbpedia.org/resource/Template:According_to_whom\"\n               }\n            },\n            \"http://www.w3.org/2000/01/rdf-schema#comment\": \"Tent of Miracles (Portuguese: Tenda dos Milagres) is a Brazilian Modernist novel. It was written by Jorge Amado in 1967 and published the following year. It was later adapted to a 1977 Cinema Novo (Nouvelle Vague) film by director/screenplay writer Nelson Pereira dos Santos.\",\n            \"http://dbpedia.org/ontology/abstract\": \"La bottega dei miracoli \\u00e8 un romanzo di Jorge Amado pubblicato nel 1960. Come altri romanzi dell&#39;autore (ad esempio Tieta d&#39;Agreste e Teresa Batista) \\u00e8 un testo composito, con un intreccio zigzagante fra analessi e prolessi, con mutamenti di voci narranti ed inserti di materiale eterogeneo.\\u00c8 possibile che l&#39;evento scatenante del racconto (la visita del famoso scienziato) sia stato ispirato dall&#39;esperienza vissuta; in quello stesso 1960, infatti, Jean Paul Sartre e Simone De Beauvoir visitarono il Brasile su invito dello stesso Amado: la visita divenne un evento mediatico, celebrato in numerose manifestazioni istituzionali.\",\n            \"http://dbpedia.org/property/pubDate\": \"1969\",\n            \"http://dbpedia.org/property/country\": {\n               \"__deferred\": {\n                  \"uri\": \"http://dbpedia.org/resource/Brazil\"\n               }\n            },\n            \"http://www.w3.org/2002/07/owl#sameAs\": {\n               \"__deferred\": {\n                  \"uri\": \"http://rdf.freebase.com/ns/m.02xrs4\"\n               }\n            },\n            \"http://dbpedia.org/ontology/wikiPageRevisionID\": \"974212123\",\n            \"http://dbpedia.org/property/author\": {\n               \"__deferred\": {\n                  \"uri\": \"http://dbpedia.org/resource/Jorge_Amado\"\n               }\n            },\n            \"http://dbpedia.org/ontology/author\": {\n               \"__deferred\": {\n                  \"uri\": \"http://dbpedia.org/resource/Jorge_Amado\"\n               }\n            },\n            \"http://xmlns.com/foaf/0.1/name\": \"Tenda dos Milagres\",\n            \"http://dbpedia.org/property/englishPubDate\": \"1971\",\n            \"http://dbpedia.org/ontology/country\": {\n               \"__deferred\": {\n                  \"uri\": \"http://dbpedia.org/resource/Brazil\"\n               }\n            },\n            \"http://dbpedia.org/property/name\": \"Tent of Miracles\",\n            \"http://purl.org/linguistics/gold/hypernym\": {\n               \"__deferred\": {\n                  \"uri\": \"http://dbpedia.org/resource/Novel\"\n               }\n            },\n            \"http://dbpedia.org/property/titleOrig\": \"Tenda dos Milagres\",\n            \"http://dbpedia.org/ontology/publisher\": {\n               \"__deferred\": {\n                  \"uri\": \"http://dbpedia.org/resource/Brazil\"\n               }\n            },\n            \"http://dbpedia.org/ontology/language\": {\n               \"__deferred\": {\n                  \"uri\": \"http://dbpedia.org/resource/Portuguese_language\"\n               }\n            },\n            \"http://www.w3.org/ns/prov#wasDerivedFrom\": {\n               \"__deferred\": {\n                  \"uri\": \"http://en.wikipedia.org/wiki/Tent_of_Miracles_(novel)?oldid=974212123&ns=0\"\n               }\n            },\n            \"http://dbpedia.org/ontology/wikiPageLength\": \"5253\",\n            \"http://purl.org/dc/elements/1.1/publisher\": \"Martins, Sao Paulo, Brazil\",\n            \"http://dbpedia.org/property/language\": {\n               \"__deferred\": {\n                  \"uri\": \"http://dbpedia.org/resource/Portuguese_language\"\n               }\n            },\n            \"http://dbpedia.org/ontology/wikiPageID\": \"623351\",\n            \"http://dbpedia.org/property/publisher\": \"Martins, Sao Paulo, Brazil\",\n            \"http://dbpedia.org/property/caption\": \"First edition\",\n            \"http://xmlns.com/foaf/0.1/isPrimaryTopicOf\": {\n               \"__deferred\": {\n                  \"uri\": \"http://en.wikipedia.org/wiki/Tent_of_Miracles_(novel)\"\n               }\n            }\n         }\n      ],\n      \"__count\": \"1\"\n   }\n}\n"
     ]
    }
   ],
   "source": [
    "import io\n",
    "import requests\n",
    "import json\n",
    "\n",
    "url_drum = \"https://dbpedia.org/data/Tent_of_Miracles_(novel).jsod\"\n",
    "\n",
    "data_drum = requests.get(url_drum)\n",
    "json_drum = data_drum.json()\n",
    "\n",
    "print(json.dumps(json_drum, indent=3))\n"
   ]
  },
  {
   "cell_type": "markdown",
   "id": "threatened-shepherd",
   "metadata": {},
   "source": [
    "## Tarefa 2\n",
    "### Recupere via Python e mostre o autor de Tenda dos Milagres?"
   ]
  },
  {
   "cell_type": "code",
   "execution_count": 3,
   "id": "subjective-bachelor",
   "metadata": {},
   "outputs": [
    {
     "output_type": "stream",
     "name": "stdout",
     "text": [
      "http://dbpedia.org/resource/Jorge_Amado\n"
     ]
    }
   ],
   "source": [
    "import io\n",
    "import requests\n",
    "import json\n",
    "\n",
    "url_drum = \"https://dbpedia.org/data/Tent_of_Miracles_(novel).jsod\"\n",
    "\n",
    "data_drum = requests.get(url_drum)\n",
    "json_drum = data_drum.json()\n",
    "\n",
    "print(json_drum['d']['results'][0]['http://dbpedia.org/ontology/author']['__deferred']['uri'])"
   ]
  },
  {
   "cell_type": "markdown",
   "id": "specialized-playback",
   "metadata": {},
   "source": [
    "## Tarefa 3\n",
    "### Quais os termos usados para Aspirina (consulta JSON/MeSH em Python)?"
   ]
  },
  {
   "cell_type": "code",
   "execution_count": 17,
   "id": "about-sacramento",
   "metadata": {},
   "outputs": [
    {
     "output_type": "stream",
     "name": "stdout",
     "text": [
      "['Aspirin', '2-(Acetyloxy)benzoic Acid', 'Acetylsalicylic Acid', 'Acetysal', 'Acylpyrin', 'Aloxiprimum', 'Colfarit', 'Dispril', 'Easprin', 'Ecotrin', 'Endosprin', 'Magnecyl', 'Micristin', 'Polopirin', 'Polopiryna', 'Solprin', 'Solupsan', 'Zorprin']\n"
     ]
    }
   ],
   "source": [
    "import io\n",
    "import requests\n",
    "import json\n",
    "\n",
    "url = \"https://id.nlm.nih.gov/mesh/lookup/descriptor?label=Aspirin&match=exact&limit=1\"\n",
    "data = requests.get(url)\n",
    "json_mi = data.json()\n",
    "\n",
    "uri_mesh = json_mi[0][\"resource\"]\n",
    "bar = str.rindex(uri_mesh, \"/\")\n",
    "\n",
    "url = \"https://id.nlm.nih.gov/mesh/lookup/details?descriptor=%s\" % uri_mesh[bar+1:]\n",
    "data = requests.get(url)\n",
    "json_mi = data.json()\n",
    "\n",
    "labels = [i[\"label\"] for i in  json_mi[\"terms\"]]\n",
    "print(labels)"
   ]
  },
  {
   "cell_type": "markdown",
   "id": "uniform-worst",
   "metadata": {},
   "source": [
    "## Tarefa 4\n",
    "### Escolha algum lugar no OpenStreetMap e elabore a mesma sequência de três chamadas de serviços para o seu conceito."
   ]
  },
  {
   "cell_type": "code",
   "execution_count": 26,
   "id": "virgin-volunteer",
   "metadata": {},
   "outputs": [
    {
     "output_type": "stream",
     "name": "stdout",
     "text": [
      "[\n   {\n      \"place_id\": 17684388,\n      \"licence\": \"Data \\u00a9 OpenStreetMap contributors, ODbL 1.0. https://osm.org/copyright\",\n      \"osm_type\": \"node\",\n      \"osm_id\": 1802652184,\n      \"boundingbox\": [\n         \"51.5006395\",\n         \"51.5007395\",\n         \"-0.1246338\",\n         \"-0.1245338\"\n      ],\n      \"lat\": \"51.5006895\",\n      \"lon\": \"-0.1245838\",\n      \"display_name\": \"Big Ben, Bridge Street, Westminster, City of Westminster, London, Greater London, England, SW1A 2JX, United Kingdom\",\n      \"class\": \"tourism\",\n      \"type\": \"attraction\",\n      \"importance\": 0.7169301795209977,\n      \"icon\": \"https://nominatim.openstreetmap.org/ui/mapicons//poi_point_of_interest.p.20.png\"\n   },\n   {\n      \"place_id\": 118413931,\n      \"licence\": \"Data \\u00a9 OpenStreetMap contributors, ODbL 1.0. https://osm.org/copyright\",\n      \"osm_type\": \"way\",\n      \"osm_id\": 123557148,\n      \"boundingbox\": [\n         \"51.5006231\",\n         \"51.5007567\",\n         \"-0.1246941\",\n         \"-0.1244737\"\n      ],\n      \"lat\": \"51.500690000000006\",\n      \"lon\": \"-0.12458391796350343\",\n      \"display_name\": \"Big Ben, Officer's Corridor, Westminster, City of Westminster, London, Greater London, England, SW1A 0RS, United Kingdom\",\n      \"class\": \"tourism\",\n      \"type\": \"attraction\",\n      \"importance\": 0.7169301795209977,\n      \"icon\": \"https://nominatim.openstreetmap.org/ui/mapicons//poi_point_of_interest.p.20.png\"\n   },\n   {\n      \"place_id\": 59810524,\n      \"licence\": \"Data \\u00a9 OpenStreetMap contributors, ODbL 1.0. https://osm.org/copyright\",\n      \"osm_type\": \"node\",\n      \"osm_id\": 5288252680,\n      \"boundingbox\": [\n         \"-29.4845124\",\n         \"-29.4844124\",\n         \"151.6579514\",\n         \"151.6580514\"\n      ],\n      \"lat\": \"-29.4844624\",\n      \"lon\": \"151.6580014\",\n      \"display_name\": \"Big Ben, Glen Innes Severn Council, New South Wales, Australia\",\n      \"class\": \"natural\",\n      \"type\": \"peak\",\n      \"importance\": 0.5,\n      \"icon\": \"https://nominatim.openstreetmap.org/ui/mapicons//poi_peak.p.20.png\"\n   },\n   {\n      \"place_id\": 39054692,\n      \"licence\": \"Data \\u00a9 OpenStreetMap contributors, ODbL 1.0. https://osm.org/copyright\",\n      \"osm_type\": \"node\",\n      \"osm_id\": 3019436529,\n      \"boundingbox\": [\n         \"-32.1539172\",\n         \"-32.1538172\",\n         \"151.8355031\",\n         \"151.8356031\"\n      ],\n      \"lat\": \"-32.1538672\",\n      \"lon\": \"151.8355531\",\n      \"display_name\": \"Big Ben, Mid-Coast Council, New South Wales, Australia\",\n      \"class\": \"natural\",\n      \"type\": \"peak\",\n      \"importance\": 0.5,\n      \"icon\": \"https://nominatim.openstreetmap.org/ui/mapicons//poi_peak.p.20.png\"\n   },\n   {\n      \"place_id\": 34157738,\n      \"licence\": \"Data \\u00a9 OpenStreetMap contributors, ODbL 1.0. https://osm.org/copyright\",\n      \"osm_type\": \"node\",\n      \"osm_id\": 2844263526,\n      \"boundingbox\": [\n         \"-19.5194944\",\n         \"-19.5193944\",\n         \"144.5130056\",\n         \"144.5131056\"\n      ],\n      \"lat\": \"-19.5194444\",\n      \"lon\": \"144.5130556\",\n      \"display_name\": \"Big Ben, Charters Towers Regional, Queensland, Australia\",\n      \"class\": \"natural\",\n      \"type\": \"peak\",\n      \"importance\": 0.5,\n      \"icon\": \"https://nominatim.openstreetmap.org/ui/mapicons//poi_peak.p.20.png\"\n   },\n   {\n      \"place_id\": 15819904,\n      \"licence\": \"Data \\u00a9 OpenStreetMap contributors, ODbL 1.0. https://osm.org/copyright\",\n      \"osm_type\": \"node\",\n      \"osm_id\": 1553411249,\n      \"boundingbox\": [\n         \"-43.3996037\",\n         \"-43.3995037\",\n         \"171.6893551\",\n         \"171.6894551\"\n      ],\n      \"lat\": \"-43.3995537\",\n      \"lon\": \"171.6894051\",\n      \"display_name\": \"Big Ben, Selwyn District, Canterbury, New Zealand / Aotearoa\",\n      \"class\": \"natural\",\n      \"type\": \"peak\",\n      \"importance\": 0.5,\n      \"icon\": \"https://nominatim.openstreetmap.org/ui/mapicons//poi_peak.p.20.png\"\n   },\n   {\n      \"place_id\": 302698080,\n      \"licence\": \"Data \\u00a9 OpenStreetMap contributors, ODbL 1.0. https://osm.org/copyright\",\n      \"osm_type\": \"way\",\n      \"osm_id\": 901823400,\n      \"boundingbox\": [\n         \"13.9418574\",\n         \"13.9426883\",\n         \"121.1524388\",\n         \"121.1537169\"\n      ],\n      \"lat\": \"13.94224185\",\n      \"lon\": \"121.15312959528296\",\n      \"display_name\": \"Big Ben, Lipa, Batangas, Calabarzon, Luzon\",\n      \"class\": \"landuse\",\n      \"type\": \"retail\",\n      \"importance\": 0.39999999999999997\n   },\n   {\n      \"place_id\": 299327700,\n      \"licence\": \"Data \\u00a9 OpenStreetMap contributors, ODbL 1.0. https://osm.org/copyright\",\n      \"osm_type\": \"way\",\n      \"osm_id\": 890509208,\n      \"boundingbox\": [\n         \"-43.3899772\",\n         \"-43.3889998\",\n         \"171.7873513\",\n         \"171.7946873\"\n      ],\n      \"lat\": \"-43.3897868\",\n      \"lon\": \"171.7907164\",\n      \"display_name\": \"Big Ben, Selwyn District, Canterbury, New Zealand / Aotearoa\",\n      \"class\": \"highway\",\n      \"type\": \"track\",\n      \"importance\": 0.3\n   },\n   {\n      \"place_id\": 143174591,\n      \"licence\": \"Data \\u00a9 OpenStreetMap contributors, ODbL 1.0. https://osm.org/copyright\",\n      \"osm_type\": \"way\",\n      \"osm_id\": 217337538,\n      \"boundingbox\": [\n         \"56.839204\",\n         \"56.8422446\",\n         \"-5.015104\",\n         \"-5.0119157\"\n      ],\n      \"lat\": \"56.8408979\",\n      \"lon\": \"-5.0131495\",\n      \"display_name\": \"Big Ben, Highland, Scotland, PH33 6SQ, United Kingdom\",\n      \"class\": \"highway\",\n      \"type\": \"cycleway\",\n      \"importance\": 0.27499999999999997\n   },\n   {\n      \"place_id\": 256508372,\n      \"licence\": \"Data \\u00a9 OpenStreetMap contributors, ODbL 1.0. https://osm.org/copyright\",\n      \"osm_type\": \"way\",\n      \"osm_id\": 868500048,\n      \"boundingbox\": [\n         \"43.016061\",\n         \"43.019274\",\n         \"-70.9611323\",\n         \"-70.9587921\"\n      ],\n      \"lat\": \"43.0175347\",\n      \"lon\": \"-70.9598802\",\n      \"display_name\": \"Big Ben, Exeter, Rockingham County, New Hampshire, 03856, United States\",\n      \"class\": \"highway\",\n      \"type\": \"path\",\n      \"importance\": 0.27499999999999997\n   }\n]\n"
     ]
    }
   ],
   "source": [
    "import io\n",
    "import requests\n",
    "import json\n",
    "\n",
    "url = \"http://nominatim.openstreetmap.org/search?format=json&q=Big Ben\"\n",
    "data = requests.get(url)\n",
    "big_ben = data.json()\n",
    "print(json.dumps(big_ben, indent=3))"
   ]
  },
  {
   "cell_type": "code",
   "execution_count": 39,
   "metadata": {},
   "outputs": [
    {
     "output_type": "stream",
     "name": "stdout",
     "text": [
      "{\n   \"version\": \"0.6\",\n   \"generator\": \"CGImap 0.8.5 (50441 spike-07.openstreetmap.org)\",\n   \"copyright\": \"OpenStreetMap and contributors\",\n   \"attribution\": \"http://www.openstreetmap.org/copyright\",\n   \"license\": \"http://opendatacommons.org/licenses/odbl/1-0/\",\n   \"elements\": [\n      {\n         \"type\": \"node\",\n         \"id\": 1802652184,\n         \"lat\": 51.5006895,\n         \"lon\": -0.1245838,\n         \"timestamp\": \"2018-03-27T15:16:42Z\",\n         \"version\": 25,\n         \"changeset\": 57571009,\n         \"user\": \"woodpeck_repair\",\n         \"uid\": 145231,\n         \"tags\": {\n            \"addr:street\": \"Bridge Street\",\n            \"amenity\": \"clock\",\n            \"display\": \"analog\",\n            \"faces\": \"4\",\n            \"historic\": \"technical_monument\",\n            \"name\": \"Big Ben\",\n            \"name:ja\": \"\\u30d3\\u30c3\\u30b0\\u30d9\\u30f3\",\n            \"name:ko\": \"\\ube45\\ubca4(\\uc2dc\\uacc4\\uc774\\ub984),\\uc5d8\\ub9ac\\uc790\\ubca0\\uc2a4\\ud0c0\\uc6cc\",\n            \"name:zh\": \"\\u5927\\u672c\\u949f\",\n            \"support\": \"tower\",\n            \"tourism\": \"attraction\",\n            \"visibility\": \"area\",\n            \"wheelchair\": \"no\",\n            \"wheelchair:description\": \"Open Friday - 334 steps. Lift will be installed during 2017. (BBC news 17th December 2016)\",\n            \"wikidata\": \"Q41225\",\n            \"wikipedia\": \"en:Big Ben\"\n         }\n      }\n   ]\n}\n"
     ]
    }
   ],
   "source": [
    "osm_id = big_ben[0][\"osm_id\"]\n",
    "url = \"https://api.openstreetmap.org/api/0.6/node/%s.json\" % str(osm_id)\n",
    "data = requests.get(url)\n",
    "big_ben_node = data.json()\n",
    "print(json.dumps(big_ben_node, indent=3))"
   ]
  },
  {
   "cell_type": "code",
   "execution_count": 61,
   "metadata": {},
   "outputs": [
    {
     "output_type": "stream",
     "name": "stdout",
     "text": [
      "{\n   \"d\": {\n      \"results\": [\n         {\n            \"__metadata\": {\n               \"uri\": \"http://dbpedia.org/resource/Big_Ben\"\n            },\n            \"http://dbpedia.org/ontology/wikiPageWikiLink\": {\n               \"__deferred\": {\n                  \"uri\": \"http://dbpedia.org/resource/Category:Government_buildings_completed_in_1859\"\n               }\n            },\n            \"http://www.w3.org/1999/02/22-rdf-syntax-ns#type\": {\n               \"__deferred\": {\n                  \"uri\": \"http://dbpedia.org/class/yago/ClockTower103047052\"\n               }\n            },\n            \"http://dbpedia.org/property/wikiPageUsesTemplate\": {\n               \"__deferred\": {\n                  \"uri\": \"http://dbpedia.org/resource/Template:Use_dmy_dates\"\n               }\n            },\n            \"http://www.w3.org/2000/01/rdf-schema#label\": \"Big Ben\",\n            \"http://dbpedia.org/ontology/wikiPageExternalLink\": {\n               \"__deferred\": {\n                  \"uri\": \"https://www.youtube.com/watch%3Fv=Y88TCW11SHM\"\n               }\n            },\n            \"http://purl.org/dc/terms/subject\": {\n               \"__deferred\": {\n                  \"uri\": \"http://dbpedia.org/resource/Category:Gothic_Revival_architecture_in_London\"\n               }\n            },\n            \"http://dbpedia.org/property/b\": \"no\",\n            \"http://www.w3.org/2002/07/owl#sameAs\": {\n               \"__deferred\": {\n                  \"uri\": \"http://my.dbpedia.org/resource/\\u1018\\u1005\\u103a\\u1018\\u1004\\u103a\\u1014\\u102c\\u101b\\u102e\\u1005\\u1004\\u103a\"\n               }\n            },\n            \"http://dbpedia.org/ontology/abstract\": \"Big Ben adalah nama sebuah lonceng besar di tengah menara jam yang terletak di sebelah utara Istana Westminster, London, Britania Raya. Tetapi nama tersebut sering dipakai untuk menyebut menara jam itu secara menyeluruh. Secara resmi menara ini diberi nama Elizabeth Tower, bertepatan dengan pesta 60 tahun Ratu Elizabeth II memimpin Britania Raya dan Wilayah Persemakmuran. Big Ben selesai dibangun pada tahun 1858, dan pada tanggal 31 Mei 2009 menara ini tepat berusia 150 tahun.\",\n            \"http://dbpedia.org/ontology/type\": {\n               \"__deferred\": {\n                  \"uri\": \"http://dbpedia.org/resource/Clock_tower\"\n               }\n            },\n            \"http://dbpedia.org/property/completionDate\": \"--05-31\",\n            \"http://www.w3.org/2003/01/geo/wgs84_pos#long\": \"-0.124499998986721\",\n            \"http://dbpedia.org/ontology/wikiPageRevisionID\": \"1025574319\",\n            \"http://www.w3.org/2000/01/rdf-schema#comment\": \"Big Ben es el nombre con el que se conoce a la gran campana del reloj situado en el lado noroeste del Palacio de Westminster, la sede del Parlamento del Reino Unido, en Londres,\\u200b y popularmente por extensi\\u00f3n se utiliza tambi\\u00e9n para nombrar al reloj de la torre. Su nombre oficial era Clock Tower\\u200b hasta que el 26 de junio de 2012, en honor al jubileo de diamante de la reina Isabel II, se decidi\\u00f3 que la torre pasar\\u00eda a llamarse Elizabeth Tower (Torre de Isabel).\\u200b\",\n            \"http://xmlns.com/foaf/0.1/depiction\": {\n               \"__deferred\": {\n                  \"uri\": \"http://commons.wikimedia.org/wiki/Special:FilePath/Clock_Tower_-_Palace_of_Westminster,_London_-_May_2007.jpg\"\n               }\n            },\n            \"http://dbpedia.org/ontology/architect\": {\n               \"__deferred\": {\n                  \"uri\": \"http://dbpedia.org/resource/Augustus_Pugin\"\n               }\n            },\n            \"http://www.w3.org/2003/01/geo/wgs84_pos#lat\": \"51.50070190429688\",\n            \"http://dbpedia.org/property/v\": \"no\",\n            \"http://xmlns.com/foaf/0.1/isPrimaryTopicOf\": {\n               \"__deferred\": {\n                  \"uri\": \"http://en.wikipedia.org/wiki/Big_Ben\"\n               }\n            },\n            \"http://xmlns.com/foaf/0.1/name\": \"Elizabeth Tower\",\n            \"http://dbpedia.org/ontology/thumbnail\": {\n               \"__deferred\": {\n                  \"uri\": \"http://commons.wikimedia.org/wiki/Special:FilePath/Clock_Tower_-_Palace_of_Westminster,_London_-_May_2007.jpg?width=300\"\n               }\n            },\n            \"http://purl.org/linguistics/gold/hypernym\": {\n               \"__deferred\": {\n                  \"uri\": \"http://dbpedia.org/resource/Nickname\"\n               }\n            },\n            \"http://dbpedia.org/property/architect\": {\n               \"__deferred\": {\n                  \"uri\": \"http://dbpedia.org/resource/Augustus_Pugin\"\n               }\n            },\n            \"http://dbpedia.org/ontology/height\": \"96.3168\",\n            \"http://www.w3.org/2004/02/skos/core#exactMatch\": {\n               \"__deferred\": {\n                  \"uri\": \"http://globalwordnet.org/ili/i50748\"\n               }\n            },\n            \"http://dbpedia.org/property/floorCount\": \"11\",\n            \"http://dbpedia.org/property/name\": \"Elizabeth Tower\",\n            \"http://dbpedia.org/property/voy\": \"Westminster\",\n            \"http://dbpedia.org/property/reason\": \"Vandalism\",\n            \"http://dbpedia.org/ontology/alternativeName\": \"Big Ben\",\n            \"http://www.w3.org/ns/prov#wasDerivedFrom\": {\n               \"__deferred\": {\n                  \"uri\": \"http://en.wikipedia.org/wiki/Big_Ben?oldid=1025574319&ns=0\"\n               }\n            },\n            \"http://dbpedia.org/property/n\": \"no\",\n            \"http://xmlns.com/foaf/0.1/homepage\": {\n               \"__deferred\": {\n                  \"uri\": \"http://www.parliament.uk/bigben\"\n               }\n            },\n            \"http://dbpedia.org/ontology/wikiPageID\": \"7290308\",\n            \"http://dbpedia.org/property/architecturalStyle\": {\n               \"__deferred\": {\n                  \"uri\": \"http://dbpedia.org/resource/Gothic_Revival_architecture\"\n               }\n            },\n            \"http://dbpedia.org/property/q\": \"no\",\n            \"http://dbpedia.org/ontology/wikiPageLength\": \"56698\",\n            \"http://dbpedia.org/property/buildingType\": {\n               \"__deferred\": {\n                  \"uri\": \"http://dbpedia.org/resource/Clock_tower\"\n               }\n            },\n            \"http://dbpedia.org/property/small\": \"yes\",\n            \"http://dbpedia.org/property/display\": \"Big Ben\",\n            \"http://dbpedia.org/property/d\": \"y\",\n            \"http://dbpedia.org/ontology/location\": {\n               \"__deferred\": {\n                  \"uri\": \"http://dbpedia.org/resource/Westminster\"\n               }\n            },\n            \"http://dbpedia.org/property/location\": \"Westminster, London, England\",\n            \"http://www.w3.org/2003/01/geo/wgs84_pos#geometry\": \"POINT(-0.12449999898672 51.500701904297)\",\n            \"http://dbpedia.org/property/alternateNames\": \"Big Ben\",\n            \"http://dbpedia.org/ontology/architecturalStyle\": {\n               \"__deferred\": {\n                  \"uri\": \"http://dbpedia.org/resource/Gothic_Revival_architecture\"\n               }\n            },\n            \"http://www.georss.org/georss/point\": \"51.5007 -0.1245\",\n            \"http://dbpedia.org/ontology/floorCount\": \"11\"\n         }\n      ],\n      \"__count\": \"1\"\n   }\n}\n"
     ]
    }
   ],
   "source": [
    "wikipedia = big_ben_node[\"elements\"][0][\"tags\"][\"wikipedia\"].replace(\" \", \"_\").replace(\"en:\", \"\")\n",
    "url = \"http://dbpedia.org/data/%s.jsod\" % wikipedia\n",
    "data = requests.get(url)\n",
    "big_ben_dbpedia = data.json()\n",
    "print(json.dumps(big_ben_dbpedia, indent = 3))"
   ]
  },
  {
   "cell_type": "code",
   "execution_count": null,
   "metadata": {},
   "outputs": [],
   "source": []
  }
 ],
 "metadata": {
  "kernelspec": {
   "name": "python3",
   "display_name": "Python 3.8.3 64-bit (system)"
  },
  "language_info": {
   "codemirror_mode": {
    "name": "ipython",
    "version": 3
   },
   "file_extension": ".py",
   "mimetype": "text/x-python",
   "name": "python",
   "nbconvert_exporter": "python",
   "pygments_lexer": "ipython3",
   "version": "3.8.3"
  },
  "interpreter": {
   "hash": "2db524e06e9f5f4ffedc911c917cb75e12dbc923643829bf417064a77eb14d37"
  }
 },
 "nbformat": 4,
 "nbformat_minor": 5
}